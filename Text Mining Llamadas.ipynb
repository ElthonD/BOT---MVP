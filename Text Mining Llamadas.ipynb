{
 "cells": [
  {
   "cell_type": "markdown",
   "id": "be1b4e84-9103-44b7-8347-35c716cf514c",
   "metadata": {},
   "source": [
    "# Análisis de Data No Estructurada - Llamadas (Presence)"
   ]
  },
  {
   "cell_type": "markdown",
   "id": "2a09ebea-85ff-4f2a-938c-ee192e6d46a8",
   "metadata": {},
   "source": [
    "## Librerías"
   ]
  },
  {
   "cell_type": "code",
   "execution_count": 1,
   "id": "b3c081e4-8cb7-454b-8eae-f02dc8886475",
   "metadata": {},
   "outputs": [],
   "source": [
    "# Tratamiento de datos\n",
    "# ==============================================================================\n",
    "import numpy as np\n",
    "import pandas as pd\n",
    "import string\n",
    "import re\n",
    "import json\n",
    "import os\n",
    "\n",
    "# Gráficos\n",
    "# ==============================================================================\n",
    "import matplotlib.pyplot as plt\n",
    "from matplotlib import style\n",
    "import seaborn as sns\n",
    "#style.use('ggplot') or plt.style.use('ggplot')\n",
    "\n",
    "# Preprocesado y modelado\n",
    "# ==============================================================================\n",
    "from sklearn import svm\n",
    "from sklearn.model_selection import train_test_split\n",
    "from sklearn.model_selection import GridSearchCV\n",
    "from sklearn.metrics import confusion_matrix\n",
    "from sklearn.feature_extraction.text import TfidfVectorizer\n",
    "import nltk\n",
    "#nltk.download('stopwords')\n",
    "from nltk.corpus import stopwords\n",
    "\n",
    "# Configuración warnings\n",
    "# ==============================================================================\n",
    "import warnings\n",
    "warnings.filterwarnings('ignore')"
   ]
  },
  {
   "cell_type": "markdown",
   "id": "8be1f140-9c3d-48cc-8909-5018b56ca6ef",
   "metadata": {},
   "source": [
    "## Data"
   ]
  },
  {
   "cell_type": "markdown",
   "id": "7354c92b-04c3-4c29-a185-7fb950aec57f",
   "metadata": {},
   "source": [
    "Los datos empleados en este documento son una muestra de las conversaciones sostenidas mediantes llamadas telefónicas de los Agentes del Engagement Center con Leads. Estas llamadas fueron convertidas en texto (Speech to text) por el proveedor Presence."
   ]
  },
  {
   "cell_type": "code",
   "execution_count": 13,
   "id": "a7ba21fc-1ecb-467a-8913-64f6ae4cd0a6",
   "metadata": {},
   "outputs": [
    {
     "ename": "AttributeError",
     "evalue": "'str' object has no attribute 'get'",
     "output_type": "error",
     "traceback": [
      "\u001b[1;31m---------------------------------------------------------------------------\u001b[0m",
      "\u001b[1;31mAttributeError\u001b[0m                            Traceback (most recent call last)",
      "Cell \u001b[1;32mIn[13], line 9\u001b[0m\n\u001b[0;32m      7\u001b[0m resultados \u001b[38;5;241m=\u001b[39m json\u001b[38;5;241m.\u001b[39mload(contenido)\n\u001b[0;32m      8\u001b[0m \u001b[38;5;28;01mfor\u001b[39;00m resultado \u001b[38;5;129;01min\u001b[39;00m resultados:\n\u001b[1;32m----> 9\u001b[0m     \u001b[38;5;28mprint\u001b[39m(\u001b[43mresultado\u001b[49m\u001b[38;5;241;43m.\u001b[39;49m\u001b[43mget\u001b[49m(\u001b[38;5;124m'\u001b[39m\u001b[38;5;124mhostname\u001b[39m\u001b[38;5;124m'\u001b[39m))\n",
      "\u001b[1;31mAttributeError\u001b[0m: 'str' object has no attribute 'get'"
     ]
    }
   ],
   "source": [
    "import glob\n",
    "\n",
    "ficheros_json = glob.glob('D:/Proyectos/BOT - MVP/data/*.json')\n",
    "# Iterar sobre la lista\n",
    "for nombre_fichero in ficheros_json:\n",
    "    with open(nombre_fichero) as contenido:\n",
    "        resultados = json.load(contenido)\n",
    "        for resultado in resultados:\n",
    "            print(resultado.get('hostname'))"
   ]
  },
  {
   "cell_type": "code",
   "execution_count": null,
   "id": "c7143f4b-a895-4896-ba69-dd2c20676487",
   "metadata": {},
   "outputs": [],
   "source": []
  },
  {
   "cell_type": "code",
   "execution_count": 20,
   "id": "26ff7385-5f5a-4141-8c2d-0ff59c670217",
   "metadata": {},
   "outputs": [],
   "source": [
    "def load_data():\n",
    "    # Obtener en una lista todos los ficheros con extension json\n",
    "    ficheros_json = [nombre_fich for nombre_fich in os.listdir('D:/Proyectos/BOT - MVP/data/') if '.json' in nombre_fich]\n",
    "\n",
    "    # Iterar sobre la lista\n",
    "    for nombre_fichero in ficheros_json:\n",
    "        with open(nombre_fichero, 'r') as contenido:\n",
    "            resultados = json.load(contenido)\n",
    "            for resultado in resultados:\n",
    "                #print(resultado.get('hostname'))\n",
    "                print(resultado)"
   ]
  },
  {
   "cell_type": "code",
   "execution_count": 21,
   "id": "c2c16159-8c2d-4d3b-899a-a17db0b7e86c",
   "metadata": {},
   "outputs": [
    {
     "ename": "FileNotFoundError",
     "evalue": "[Errno 2] No such file or directory: '1709010.json'",
     "output_type": "error",
     "traceback": [
      "\u001b[1;31m---------------------------------------------------------------------------\u001b[0m",
      "\u001b[1;31mFileNotFoundError\u001b[0m                         Traceback (most recent call last)",
      "Cell \u001b[1;32mIn[21], line 1\u001b[0m\n\u001b[1;32m----> 1\u001b[0m \u001b[43mload_data\u001b[49m\u001b[43m(\u001b[49m\u001b[43m)\u001b[49m\n",
      "Cell \u001b[1;32mIn[20], line 7\u001b[0m, in \u001b[0;36mload_data\u001b[1;34m()\u001b[0m\n\u001b[0;32m      5\u001b[0m \u001b[38;5;66;03m# Iterar sobre la lista\u001b[39;00m\n\u001b[0;32m      6\u001b[0m \u001b[38;5;28;01mfor\u001b[39;00m nombre_fichero \u001b[38;5;129;01min\u001b[39;00m ficheros_json:\n\u001b[1;32m----> 7\u001b[0m     \u001b[38;5;28;01mwith\u001b[39;00m \u001b[38;5;28;43mopen\u001b[39;49m\u001b[43m(\u001b[49m\u001b[43mnombre_fichero\u001b[49m\u001b[43m,\u001b[49m\u001b[43m \u001b[49m\u001b[38;5;124;43m'\u001b[39;49m\u001b[38;5;124;43mr\u001b[39;49m\u001b[38;5;124;43m'\u001b[39;49m\u001b[43m)\u001b[49m \u001b[38;5;28;01mas\u001b[39;00m contenido:\n\u001b[0;32m      8\u001b[0m         resultados \u001b[38;5;241m=\u001b[39m json\u001b[38;5;241m.\u001b[39mload(contenido)\n\u001b[0;32m      9\u001b[0m         \u001b[38;5;28;01mfor\u001b[39;00m resultado \u001b[38;5;129;01min\u001b[39;00m resultados:\n\u001b[0;32m     10\u001b[0m             \u001b[38;5;66;03m#print(resultado.get('hostname'))\u001b[39;00m\n",
      "File \u001b[1;32m~\\.conda\\envs\\pyenv\\lib\\site-packages\\IPython\\core\\interactiveshell.py:286\u001b[0m, in \u001b[0;36m_modified_open\u001b[1;34m(file, *args, **kwargs)\u001b[0m\n\u001b[0;32m    279\u001b[0m \u001b[38;5;28;01mif\u001b[39;00m file \u001b[38;5;129;01min\u001b[39;00m {\u001b[38;5;241m0\u001b[39m, \u001b[38;5;241m1\u001b[39m, \u001b[38;5;241m2\u001b[39m}:\n\u001b[0;32m    280\u001b[0m     \u001b[38;5;28;01mraise\u001b[39;00m \u001b[38;5;167;01mValueError\u001b[39;00m(\n\u001b[0;32m    281\u001b[0m         \u001b[38;5;124mf\u001b[39m\u001b[38;5;124m\"\u001b[39m\u001b[38;5;124mIPython won\u001b[39m\u001b[38;5;124m'\u001b[39m\u001b[38;5;124mt let you open fd=\u001b[39m\u001b[38;5;132;01m{\u001b[39;00mfile\u001b[38;5;132;01m}\u001b[39;00m\u001b[38;5;124m by default \u001b[39m\u001b[38;5;124m\"\u001b[39m\n\u001b[0;32m    282\u001b[0m         \u001b[38;5;124m\"\u001b[39m\u001b[38;5;124mas it is likely to crash IPython. If you know what you are doing, \u001b[39m\u001b[38;5;124m\"\u001b[39m\n\u001b[0;32m    283\u001b[0m         \u001b[38;5;124m\"\u001b[39m\u001b[38;5;124myou can use builtins\u001b[39m\u001b[38;5;124m'\u001b[39m\u001b[38;5;124m open.\u001b[39m\u001b[38;5;124m\"\u001b[39m\n\u001b[0;32m    284\u001b[0m     )\n\u001b[1;32m--> 286\u001b[0m \u001b[38;5;28;01mreturn\u001b[39;00m io_open(file, \u001b[38;5;241m*\u001b[39margs, \u001b[38;5;241m*\u001b[39m\u001b[38;5;241m*\u001b[39mkwargs)\n",
      "\u001b[1;31mFileNotFoundError\u001b[0m: [Errno 2] No such file or directory: '1709010.json'"
     ]
    }
   ],
   "source": [
    "load_data()"
   ]
  },
  {
   "cell_type": "code",
   "execution_count": 2,
   "id": "22319da8-b1bd-427d-9697-4a6fc5c5d01d",
   "metadata": {},
   "outputs": [
    {
     "name": "stdout",
     "output_type": "stream",
     "text": [
      "{'RecID': 1709010, 'Fecha': '27/10/2024 03:13:13 p. m.', 'Servicio': '0', 'Login': '4111', 'Agente': 'Eduardo Juarez Pastrana', 'Telefono': '99406643100118', 'CONTACTID': '0', 'Tipo': '1', 'conversacion': [{'inicio': '1.04', 'fin': '1.56', 'autor': 'Cliente', 'texto': ' Hola.'}, {'inicio': '2.00', 'fin': '5.06', 'autor': 'Agente', 'texto': ' Hola, Â¿quÃ© tal? Muy buenas tardes. Tengo un gusto para la seÃ±orita Amelia Moreno.'}, {'inicio': '5.42', 'fin': '6.10', 'autor': 'Cliente', 'texto': ' AsÃ\\xad es.'}, {'inicio': '6.54', 'fin': '22.28', 'autor': 'Agente', 'texto': ' Mucho gusto, seÃ±orita. Mi nombre es Eduardo Pastrana. Un gusto saludarle. Me estoy comunicando con usted de parte del proyecto Ciudad Natura. Es un conjunto de casas ubicado en el estado de Hidalgo, en el municipio de Tizayuca. El dÃ\\xada de hoy nos comparte amablemente una solicitud de informaciÃ³n. No sÃ© si estÃ¡ en bÃºsqueda de propiedad, seÃ±orita Amelia.'}, {'inicio': '22.75', 'fin': '23.47', 'autor': 'Cliente', 'texto': ' AsÃ\\xad es.'}, {'inicio': '24.18', 'fin': '31.16', 'autor': 'Agente', 'texto': ' MuchÃ\\xadsimas gracias, Miguel. La intenciÃ³n de esta llamada es ser muy breve, informarle brevemente y si asÃ\\xad lo desea, le comparto toda la informaciÃ³n a su WhatsApp. Â¿EstÃ¡ bien?'}, {'inicio': '31.60', 'fin': '32.56', 'autor': 'Cliente', 'texto': ' SÃ\\xad, por favor.'}, {'inicio': '32.00', 'fin': '45.34', 'autor': 'Agente', 'texto': ' MuchÃ\\xadsimas gracias, Miguel. En este proyecto llamado Ciudad Natura, ubicado en el municipio de Tizayuca, Hidalgo, por el momento estamos contando con tres modelos de propiedades. Son casas duplex y casas solas de dos y tres habitaciones.'}, {'inicio': '45.72', 'fin': '56.00', 'autor': 'Agente', 'texto': ' SeÃ±orita, para no saturarla de informaciÃ³n, no sÃ© si ya cuente con alguna particularidad que estÃ© buscando, como algÃºn nÃºmero de habitaciones, alguna caracterÃ\\xadstica en especial o algÃºn presupuesto en especÃ\\xadfico. PlatÃ\\xadqueme un poco de su bÃºsqueda.'}, {'inicio': '55.44', 'fin': '58.30', 'autor': 'Cliente', 'texto': ' Mi presupuesto, de acuerdo al crÃ©dito de infonavit.'}, {'inicio': '58.97', 'fin': '60.81', 'autor': 'Agente', 'texto': ' Ok. Â¿CuÃ¡l serÃ\\xada el presupuesto que quiere manejar?'}, {'inicio': '61.60', 'fin': '62.64', 'autor': 'Cliente', 'texto': ' 650 mÃ¡s.'}, {'inicio': '63.10', 'fin': '64.28', 'autor': 'Agente', 'texto': ' 650.000. Perfecto.'}, {'inicio': '64.28', 'fin': '83.02', 'autor': 'Agente', 'texto': ' El primer modelo con el que contamos es el modelo de Titanium. Es una casa duplex de dos habitaciones que parte desde los 640.000 pesos. Igual, si quiere validar el modelo de planta baja, porque el primero que le comento es planta alta, este parte desde los 715.000, pero la ventaja es que tiene un descuento de 30.000 pesos en caso de diferencia.'}, {'inicio': '83.36', 'fin': '89.30', 'autor': 'Agente', 'texto': ' Igual, si guste, ahorita le voy a llegar justamente todo esto que le estoy mencionando para que pueda contemplarlo, pueda conocer el modelo, no sÃ© quÃ© le parece.'}, {'inicio': '91.94', 'fin': '95.30', 'autor': 'Agente', 'texto': ' Ya nada mÃ¡s para finalizar y no quitarle mÃ¡s tiempo, seÃ±orita MarÃ\\xada, me gustarÃ\\xada...'}, {'inicio': '95.56', 'fin': '98.00', 'autor': 'Agente', 'texto': ' Primero, los datos que nos comparte nuestro portal, Â¿me permite?'}, {'inicio': '99.88', 'fin': '105.14', 'autor': 'Agente', 'texto': ' MuchÃ\\xadsimas gracias. Mire, su nombre Ãºnicamente nos lo comparte como Amelia Moreno. Â¿Me podrÃ\\xada apoyar, por favor, con su nombre completo y correcto?'}, {'inicio': '106.14', 'fin': '107.60', 'autor': 'Cliente', 'texto': ' Escobedo, Amalia Moreno Escobedo.'}, {'inicio': '108.04', 'fin': '109.28', 'autor': 'Agente', 'texto': ' Escobedo. MuchÃ\\xadsimas gracias.'}, {'inicio': '109.28', 'fin': '115.64', 'autor': 'Agente', 'texto': ' Nos comparte tambiÃ©n un correo que nos aparece como amelicony-moreno-hotmail.com. Es correcto.'}, {'inicio': '116.48', 'fin': '117.42', 'autor': 'Cliente', 'texto': ' No, ya no lo utilizo.'}, {'inicio': '118.05', 'fin': '119.35', 'autor': 'Agente', 'texto': ' Ok. Â¿Si gusta actualizÃ¡rmelo?'}, {'inicio': '120.14', 'fin': '126.34', 'autor': 'Cliente', 'texto': ' SÃ\\xad, es agua, blanca, arroba.'}, {'inicio': '121.54', 'fin': '122.14', 'autor': 'Agente', 'texto': ' Agua, sÃ\\xad.'}, {'inicio': '123.84', 'fin': '124.36', 'autor': 'Agente', 'texto': ' Blanca.'}, {'inicio': '126.72', 'fin': '127.16', 'autor': 'Cliente', 'texto': ' Ay, perdÃ³n.'}, {'inicio': '127.76', 'fin': '129.10', 'autor': 'Cliente', 'texto': ' No, sin arroba.'}, {'inicio': '129.57', 'fin': '130.31', 'autor': 'Agente', 'texto': ' Ok. AjÃ¡.'}, {'inicio': '130.67', 'fin': '133.05', 'autor': 'Agente', 'texto': ' Ok. Amelia.'}, {'inicio': '131.02', 'fin': '135.21', 'autor': 'Cliente', 'texto': ' Amalia, arroba, y no el punto.'}, {'inicio': '133.87', 'fin': '135.27', 'autor': 'Agente', 'texto': ' Ok. Si ve agua...'}, {'inicio': '135.27', 'fin': '136.27', 'autor': 'Agente', 'texto': ' ...arroba...'}, {'inicio': '136.35', 'fin': '137.15', 'autor': 'Agente', 'texto': ' ...gmail.com.'}, {'inicio': '138.15', 'fin': '141.47', 'autor': 'Agente', 'texto': ' Ok. Y serÃ\\xada aguablancaamelia.gmail.com.'}, {'inicio': '142.95', 'fin': '143.67', 'autor': 'Agente', 'texto': ' MuchÃ\\xadsimas gracias.'}, {'inicio': '144.11', 'fin': '147.41', 'autor': 'Agente', 'texto': ' Y, finalmente, seÃ±orita Amelia, Â¿me podrÃ\\xada apoyar, por favor, con su fecha de nacimiento?'}, {'inicio': '149.03', 'fin': '150.93', 'autor': 'Cliente', 'texto': ' 501-1994.'}, {'inicio': '152.41', 'fin': '153.85', 'autor': 'Agente', 'texto': ' 050194. MuchÃ\\xadsimas gracias.'}, {'inicio': '154.31', 'fin': '157.73', 'autor': 'Agente', 'texto': ' Muy bien. Y me gustarÃ\\xada tambiÃ©n invitarla para que pudiera conocer personalmente el proyecto.'}, {'inicio': '157.73', 'fin': '161.23', 'autor': 'Agente', 'texto': ' Estamos laburando de lunes a domingo de 10 de la maÃ±ana a 5 y media de la tarde.'}, {'inicio': '161.35', 'fin': '163.73', 'autor': 'Agente', 'texto': ' No sÃ© si ya cuenta con alguna fecha tentativa en la cual desvisitarnos.'}, {'inicio': '165.82', 'fin': '166.62', 'autor': 'Cliente', 'texto': ' Yo creo que el martes.'}, {'inicio': '166.72', 'fin': '167.32', 'autor': 'Agente', 'texto': ' El martes.'}, {'inicio': '166.92', 'fin': '174.77', 'autor': 'Cliente', 'texto': ' A las tres aproximadamente.'}, {'inicio': '167.48', 'fin': '168.72', 'autor': 'Agente', 'texto': ' Ok. Perfecto. Â¿Alguna vez en especial?'}, {'inicio': '174.94', 'fin': '175.26', 'autor': 'Agente', 'texto': ' Perfecto.'}, {'inicio': '175.34', 'fin': '176.26', 'autor': 'Agente', 'texto': ' Claro. Si no se preocupa, igual.'}, {'inicio': '176.36', 'fin': '177.72', 'autor': 'Agente', 'texto': ' Es una fecha con un horario tentativo.'}, {'inicio': '177.82', 'fin': '181.72', 'autor': 'Agente', 'texto': ' En caso de que quiera anteponerla o posponerla, Ãºnicamente nos indica y la recibimos sin ningÃºn problema.'}, {'inicio': '181.80', 'fin': '182.06', 'autor': 'Agente', 'texto': ' Â¿EstÃ¡ bien?'}, {'inicio': '183.88', 'fin': '184.68', 'autor': 'Agente', 'texto': ' Perfecto, seÃ±orita Amelia.'}, {'inicio': '184.76', 'fin': '189.46', 'autor': 'Agente', 'texto': ' Y ya para finalizar, es importante comentarle que toda la informaciÃ³n va a ser manejada por uno de mis mejores expertos'}, {'inicio': '189.46', 'fin': '192.64', 'autor': 'Agente', 'texto': ' que se encuentran ubicados directamente en el proyecto, ya que yo les soy muy franco.'}, {'inicio': '192.88', 'fin': '194.26', 'autor': 'Agente', 'texto': ' Ãšnicamente soy un primer contacto.'}, {'inicio': '194.54', 'fin': '197.96', 'autor': 'Agente', 'texto': ' Este experto que le comento en algÃºn momento tambiÃ©n va a intentar comunicarse con usted'}, {'inicio': '197.96', 'fin': '201.38', 'autor': 'Agente', 'texto': ' para platicar un poquito mÃ¡s de la propuesta, resolver las dudas que vayan surgiendo'}, {'inicio': '201.38', 'fin': '203.72', 'autor': 'Agente', 'texto': ' y, lo mÃ¡s importante, poder darle una asesorÃ\\xada.'}, {'inicio': '204.08', 'fin': '206.00', 'autor': 'Agente', 'texto': ' No sÃ© si es que se lo presente en este momento para que tambiÃ©n se pueda comunicar con usted.'}, {'inicio': '206.00', 'fin': '209.12', 'autor': 'Agente', 'texto': ' No, para que tambiÃ©n usted tenga la certeza de quiÃ©n es la persona que nos va a estar apoyando.'}, {'inicio': '209.46', 'fin': '213.38', 'autor': 'Agente', 'texto': ' O bien, puede regalarme un horario donde el experto se pueda comunicar y no interrumpa sus actividades.'}, {'inicio': '209.88', 'fin': '216.49', 'autor': 'Cliente', 'texto': ' Con que me mande WhatsApp, nada mÃ¡s.'}, {'inicio': '216.45', 'fin': '217.13', 'autor': 'Agente', 'texto': ' Bien, claro que sÃ\\xad.'}, {'inicio': '217.21', 'fin': '217.43', 'autor': 'Agente', 'texto': ' Muy bien.'}, {'inicio': '217.51', 'fin': '218.31', 'autor': 'Agente', 'texto': ' Entonces, un momento mÃ¡s.'}, {'inicio': '218.45', 'fin': '219.89', 'autor': 'Agente', 'texto': ' Ya le estamos compartiendo toda la informaciÃ³n.'}, {'inicio': '220.09', 'fin': '223.27', 'autor': 'Agente', 'texto': ' No sÃ© si al momento haya alguna duda o algo mÃ¡s en lo que le pueda apoyar, seÃ±orita Amelia.'}, {'inicio': '225.53', 'fin': '225.81', 'autor': 'Agente', 'texto': ' Perfecto.'}, {'inicio': '225.83', 'fin': '228.57', 'autor': 'Agente', 'texto': ' Mi nombre es Eduardo Pastrana y le agradezco muchÃ\\xadsimo el que haya tomado la llamada.'}, {'inicio': '228.69', 'fin': '229.83', 'autor': 'Agente', 'texto': ' Le deseo que pase una excelente tarde.'}, {'inicio': '231.34', 'fin': '231.94', 'autor': 'Cliente', 'texto': ' Igualmente, gracias.'}, {'inicio': '231.67', 'fin': '232.37', 'autor': 'Agente', 'texto': ' Gracias. Hasta luego.'}]}\n"
     ]
    }
   ],
   "source": [
    "# Open and read the JSON file\n",
    "\n",
    "json1 = 'D:/Proyectos/BOT - MVP/data/1709010.json'\n",
    "json2 = 'D:/Proyectos/BOT - MVP/data/1709030.json'\n",
    "json3 = 'D:/Proyectos/BOT - MVP/data/1709137.json'\n",
    "with open(json1, 'r') as file:\n",
    "    data = json.load(file)\n",
    "    #data = json.dumps(json1, ident=4, sort_keys=True)\n",
    ")\n",
    "# Print the data\n",
    "print(data)"
   ]
  },
  {
   "cell_type": "code",
   "execution_count": null,
   "id": "c2de0d27-9012-47f1-a4c3-941b5f1ac63d",
   "metadata": {},
   "outputs": [],
   "source": [
    "# Lectura de datos\n",
    "# ==============================================================================\n",
    "url = 'https://raw.githubusercontent.com/JoaquinAmatRodrigo/Estadistica-con-R/master/datos/'\n",
    "tweets_elon   = pd.read_csv(url + \"datos_tweets_@elonmusk.csv\")\n",
    "tweets_edlee  = pd.read_csv(url + \"datos_tweets_@mayoredlee.csv\")\n",
    "tweets_bgates = pd.read_csv(url + \"datos_tweets_@BillGates.csv\")\n",
    "\n",
    "print('Número de tweets @BillGates: ' + str(tweets_bgates.shape[0]))\n",
    "print('Número de tweets @mayoredlee: ' + str(tweets_edlee.shape[0]))\n",
    "print('Número de tweets @elonmusk: ' + str(tweets_elon.shape[0]))"
   ]
  }
 ],
 "metadata": {
  "kernelspec": {
   "display_name": "Python 3 (ipykernel)",
   "language": "python",
   "name": "python3"
  },
  "language_info": {
   "codemirror_mode": {
    "name": "ipython",
    "version": 3
   },
   "file_extension": ".py",
   "mimetype": "text/x-python",
   "name": "python",
   "nbconvert_exporter": "python",
   "pygments_lexer": "ipython3",
   "version": "3.9.19"
  }
 },
 "nbformat": 4,
 "nbformat_minor": 5
}
